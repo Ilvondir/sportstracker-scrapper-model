{
 "cells": [
  {
   "cell_type": "markdown",
   "id": "3f485511",
   "metadata": {},
   "source": [
    "# Import libraries"
   ]
  },
  {
   "cell_type": "code",
   "execution_count": null,
   "id": "746b84d0",
   "metadata": {},
   "outputs": [],
   "source": [
    "import pandas as pd\n",
    "import tensorflow as tf\n",
    "from pathlib import Path\n",
    "from matplotlib import pyplot as plt\n",
    "from sklearn.pipeline import Pipeline, FunctionTransformer, FeatureUnion\n",
    "from sklearn.discriminant_analysis import StandardScaler\n",
    "from sklearn.impute import SimpleImputer\n",
    "from sklearn.base import ClassifierMixin\n",
    "import numpy as np\n",
    "from sklearn.feature_selection import RFECV\n",
    "from sklearn.tree import DecisionTreeClassifier\n",
    "from sklearn.calibration import LabelEncoder\n",
    "from sklearn.metrics import ConfusionMatrixDisplay, confusion_matrix, accuracy_score\n",
    "from sklearn.ensemble import RandomForestClassifier\n",
    "from sklearn.model_selection import GridSearchCV, RandomizedSearchCV, StratifiedKFold\n",
    "import warnings\n",
    "\n",
    "SEED = 42"
   ]
  },
  {
   "cell_type": "markdown",
   "id": "28479749",
   "metadata": {},
   "source": [
    "# Load data"
   ]
  },
  {
   "cell_type": "code",
   "execution_count": null,
   "id": "7b2a6c89",
   "metadata": {},
   "outputs": [],
   "source": [
    "data_path = Path('datasets/cleaned_data.csv')\n",
    "data = pd.read_csv(data_path)\n",
    "data = data.drop('ID', axis=1)\n",
    "labels = data.pop('Label')\n",
    "\n",
    "data.head"
   ]
  },
  {
   "cell_type": "code",
   "execution_count": null,
   "id": "3fb86f33",
   "metadata": {},
   "outputs": [],
   "source": [
    "data.info()"
   ]
  },
  {
   "cell_type": "code",
   "execution_count": null,
   "id": "d4b49a07",
   "metadata": {},
   "outputs": [],
   "source": [
    "data.describe().T"
   ]
  },
  {
   "cell_type": "code",
   "execution_count": null,
   "id": "e36310e7",
   "metadata": {},
   "outputs": [],
   "source": [
    "labels.value_counts().values"
   ]
  },
  {
   "cell_type": "code",
   "execution_count": null,
   "id": "adf6b229",
   "metadata": {},
   "outputs": [],
   "source": [
    "fig, ax = plt.subplots()\n",
    "\n",
    "barplot = ax.bar(labels.value_counts().keys(), labels.value_counts().values)\n",
    "\n",
    "for bar in barplot:\n",
    "    text = bar.get_height()\n",
    "    ax.text(bar.get_x() + bar.get_width() / 2,\n",
    "            text, text, ha='center', va='bottom')\n",
    "\n",
    "\n",
    "plt.show()"
   ]
  },
  {
   "cell_type": "markdown",
   "id": "024631d5",
   "metadata": {},
   "source": [
    "# Feature engineering"
   ]
  },
  {
   "cell_type": "code",
   "execution_count": null,
   "id": "b044098c",
   "metadata": {},
   "outputs": [],
   "source": [
    "def energy_per_km(row):\n",
    "    if row['Distance'] > 0:\n",
    "        return row['Energy'] / row['Distance']\n",
    "    else:\n",
    "        return 0\n",
    "    \n",
    "data['Energy Per Km'] = data.apply(energy_per_km, axis=1)"
   ]
  },
  {
   "cell_type": "code",
   "execution_count": null,
   "id": "7056921b",
   "metadata": {},
   "outputs": [],
   "source": [
    "def show_hist_based_on_labels(feature):\n",
    "    classes = labels.unique()\n",
    "\n",
    "    colors = ['blue', 'green', 'red', 'orange'] # 4 most popular labels\n",
    "\n",
    "    for class_, color in zip(classes, colors):\n",
    "        subset = data[labels == class_]\n",
    "        plt.hist(subset[feature], bins=10, alpha=0.33, label=class_, color=color, histtype='bar')\n",
    "\n",
    "    plt.xlabel(feature)\n",
    "    plt.legend()\n",
    "    plt.grid(True)\n",
    "    plt.show()\n",
    "\n",
    "feature = 'Energy Per Km'\n",
    "show_hist_based_on_labels(feature) \n",
    "data = data.drop(feature, axis=1)"
   ]
  },
  {
   "cell_type": "markdown",
   "id": "03a4d248",
   "metadata": {},
   "source": [
    "# Preprocessing"
   ]
  },
  {
   "cell_type": "code",
   "execution_count": null,
   "id": "559ac56a",
   "metadata": {},
   "outputs": [],
   "source": [
    "num_pipeline = Pipeline([\n",
    "    ('scaler', StandardScaler()),\n",
    "])\n",
    "\n",
    "num_pipeline"
   ]
  },
  {
   "cell_type": "code",
   "execution_count": null,
   "id": "0a9c3575",
   "metadata": {},
   "outputs": [],
   "source": [
    "from sklearn.base import BaseEstimator, TransformerMixin\n",
    "from sklearn.decomposition import PCA\n",
    "\n",
    "\n",
    "class Reducter(BaseEstimator, TransformerMixin):\n",
    "    def __init__(self, n_components=2):\n",
    "        self.n_components = n_components\n",
    "        self.pca = PCA(n_components=self.n_components)\n",
    "\n",
    "    def fit(self, X, Y=None):\n",
    "        self.pca.fit(X)\n",
    "        return self\n",
    "\n",
    "    def transform(self, X):\n",
    "        return self.pca.transform(X)\n",
    "    \n",
    "    def get_feature_names_out(self, input_features=None):\n",
    "        return [f'Reducted#{i+1}' for i in range(self.n_components)]"
   ]
  },
  {
   "cell_type": "code",
   "execution_count": null,
   "id": "995b5f51",
   "metadata": {},
   "outputs": [],
   "source": [
    "reducter_pipeline = Pipeline([\n",
    "    ('num_pipeline', num_pipeline),\n",
    "    ('reducter', Reducter(n_components=2)),\n",
    "])\n",
    "\n",
    "reducter_pipeline"
   ]
  },
  {
   "cell_type": "code",
   "execution_count": null,
   "id": "6067febf",
   "metadata": {},
   "outputs": [],
   "source": [
    "def energy_per_km(features):\n",
    "    energy_index = data.columns.to_list().index('Energy')\n",
    "    distance_index = data.columns.to_list().index('Distance')\n",
    "\n",
    "    distance = features[:, distance_index]\n",
    "    energy = features[:, energy_index]\n",
    "    safe_distance = np.where(distance == 0, np.nan, distance)\n",
    "\n",
    "    result = energy / safe_distance\n",
    "    result = np.nan_to_num(result, nan=0.0)\n",
    "    return result.reshape(-1, 1)\n",
    "\n",
    "feature_pipeline = Pipeline([\n",
    "    ('energy_per_km', FunctionTransformer(energy_per_km, feature_names_out=lambda _, __: ['Energy Per Km'])),\n",
    "    ('scaler', StandardScaler()),\n",
    "])\n",
    "\n",
    "feature_pipeline"
   ]
  },
  {
   "cell_type": "code",
   "execution_count": null,
   "id": "e1aab524",
   "metadata": {},
   "outputs": [],
   "source": [
    "union = FeatureUnion([\n",
    "    ('num', num_pipeline),\n",
    "    ('reducter', reducter_pipeline),\n",
    "    ('feature', feature_pipeline),\n",
    "])\n",
    "\n",
    "union"
   ]
  },
  {
   "cell_type": "code",
   "execution_count": null,
   "id": "d82ea0c3",
   "metadata": {},
   "outputs": [],
   "source": [
    "preprocess = Pipeline([\n",
    "    ('imputer', SimpleImputer()),\n",
    "    ('union', union)\n",
    "])\n",
    "\n",
    "preprocess"
   ]
  },
  {
   "cell_type": "code",
   "execution_count": null,
   "id": "9a88969c",
   "metadata": {},
   "outputs": [],
   "source": [
    "pd.DataFrame(preprocess.fit_transform(data), columns=preprocess.get_feature_names_out())"
   ]
  },
  {
   "cell_type": "markdown",
   "id": "79429a8c",
   "metadata": {},
   "source": [
    "# Feature selection"
   ]
  },
  {
   "cell_type": "code",
   "execution_count": null,
   "id": "15ef7897",
   "metadata": {},
   "outputs": [],
   "source": [
    "feature_selection = Pipeline([\n",
    "    ('preprocessing', preprocess),\n",
    "    ('selection', RFECV(estimator=DecisionTreeClassifier(random_state=SEED), cv=StratifiedKFold(3, shuffle=True, random_state=SEED), scoring='accuracy'))\n",
    "])\n",
    "\n",
    "feature_selection"
   ]
  },
  {
   "cell_type": "code",
   "execution_count": null,
   "id": "94099dcf",
   "metadata": {},
   "outputs": [],
   "source": [
    "le = LabelEncoder()\n",
    "labels = le.fit_transform(labels)\n",
    "pd.DataFrame(feature_selection.fit_transform(data, labels), columns=feature_selection.get_feature_names_out())"
   ]
  },
  {
   "cell_type": "markdown",
   "id": "8216b1d6",
   "metadata": {},
   "source": [
    "# RandomForestClassifier"
   ]
  },
  {
   "cell_type": "code",
   "execution_count": null,
   "id": "6329fb8c",
   "metadata": {},
   "outputs": [],
   "source": [
    "warnings.filterwarnings(\"ignore\")\n",
    "\n",
    "forest_pipeline = Pipeline([\n",
    "    ('feature_selection', feature_selection),\n",
    "    ('forest', RandomForestClassifier(random_state=SEED))\n",
    "])\n",
    "\n",
    "\n",
    "forest_params = [\n",
    "    {\n",
    "        'forest__n_estimators': [15, 50, 100],\n",
    "        'forest__max_depth': [None, 15, 50],\n",
    "    },\n",
    "]\n",
    "\n",
    "forest_searching = GridSearchCV(forest_pipeline, forest_params, cv=StratifiedKFold(n_splits=5, shuffle=True, random_state=SEED), scoring='accuracy', refit=True)\n",
    "forest_searching.fit(data, labels)\n",
    "\n",
    "print(forest_searching.best_params_)\n",
    "pd.DataFrame(forest_searching.cv_results_).sort_values(by='rank_test_score', ascending=True)"
   ]
  },
  {
   "cell_type": "code",
   "execution_count": null,
   "id": "00141401",
   "metadata": {},
   "outputs": [],
   "source": [
    "print(list(zip(range(len(le.classes_)), le.classes_)))\n",
    "\n",
    "model = forest_searching.best_estimator_ \n",
    "preds = model.predict(data)\n",
    "print(f'Accuracy: {accuracy_score(labels, preds)}')\n",
    "ConfusionMatrixDisplay(confusion_matrix(labels, preds)).plot()"
   ]
  },
  {
   "cell_type": "markdown",
   "id": "b3a5b94d",
   "metadata": {},
   "source": [
    "# Neural Network"
   ]
  },
  {
   "cell_type": "code",
   "execution_count": null,
   "id": "54616499",
   "metadata": {},
   "outputs": [],
   "source": [
    "input_shape = feature_selection.fit_transform(data, labels).shape[1:]"
   ]
  },
  {
   "cell_type": "code",
   "execution_count": null,
   "id": "7383efaf",
   "metadata": {},
   "outputs": [],
   "source": [
    "class ModelBuilder:\n",
    "    def __init__(self, optimizer=tf.keras.optimizers.Adam(), units=8, activation='relu', layers=1):\n",
    "        self.optimizer = optimizer\n",
    "        self.units = units\n",
    "        self.activation = activation\n",
    "        self.layers = layers\n",
    "\n",
    "    def __call__(self, input_shape):\n",
    "        input_layer = tf.keras.layers.Input(shape=input_shape)\n",
    "\n",
    "        x = tf.keras.layers.Dense(units=self.units, activation=self.activation)(input_layer)\n",
    "\n",
    "        for _ in range(self.layers-1):\n",
    "            x = tf.keras.layers.Dense(units=self.units, activation=self.activation)(x)\n",
    "\n",
    "        model = tf.keras.layers.Dense(units=len(le.classes_), activation='softmax')(x)\n",
    "\n",
    "        model = tf.keras.Model(inputs=input_layer, outputs=model)\n",
    "\n",
    "        model.compile(loss='categorical_crossentropy',\n",
    "                    optimizer=self.optimizer,\n",
    "                    metrics=['accuracy'])\n",
    "\n",
    "        return model\n",
    "\n",
    "    def set_params(self, **params):\n",
    "        for key, value in params.items():\n",
    "            setattr(self, key, value)\n",
    "        return self\n",
    "\n",
    "    def get_params(self, deep=True):\n",
    "        return {\n",
    "            'optimizer': self.optimizer,\n",
    "            'units': self.units,\n",
    "            'activation': self.activation,\n",
    "            'layers': self.layers,\n",
    "        }"
   ]
  },
  {
   "cell_type": "code",
   "execution_count": null,
   "id": "4a308fc6",
   "metadata": {},
   "outputs": [],
   "source": [
    "class TFClassifier(BaseEstimator, ClassifierMixin):\n",
    "    def __init__(self, build_model, epochs=100, batch_size=8, verbose=0, **build_kwargs):\n",
    "        self.build_model = build_model\n",
    "        self.epochs = epochs\n",
    "        self.batch_size = batch_size\n",
    "        self.verbose = verbose\n",
    "        self.build_kwargs = build_kwargs\n",
    "        self.model_ = None\n",
    "\n",
    "    def fit(self, X, y, **fit_params):\n",
    "        input_shape = X.shape[1:]\n",
    "        self.model_ = self.build_model(input_shape=input_shape, **self.build_kwargs)\n",
    "\n",
    "        if len(y.shape) == 1 or y.shape[1] == 1:\n",
    "            num_classes = np.max(y) + 1\n",
    "            y = tf.keras.utils.to_categorical(y, num_classes)\n",
    "\n",
    "        self.model_.fit(X, y,\n",
    "                        epochs=self.epochs,\n",
    "                        batch_size=self.batch_size,\n",
    "                        verbose=self.verbose,\n",
    "                        **fit_params)\n",
    "        return self\n",
    "\n",
    "    def predict(self, X):\n",
    "        probs = self.model_.predict(X, verbose=1)\n",
    "        return np.argmax(probs, axis=1)\n",
    "\n",
    "    def predict_proba(self, X):\n",
    "        return self.model_.predict(X, verbose=1)\n",
    "\n",
    "    def score(self, X, y):\n",
    "        y_pred = self.predict(X)\n",
    "        if len(y.shape) > 1 and y.shape[1] > 1:\n",
    "            y = np.argmax(y, axis=1)\n",
    "        return np.mean(y_pred == y)"
   ]
  },
  {
   "cell_type": "code",
   "execution_count": null,
   "id": "d376dcad",
   "metadata": {},
   "outputs": [],
   "source": [
    "make_model = ModelBuilder()\n",
    "\n",
    "model = TFClassifier(make_model, epochs=50, batch_size=8, verbose=0)\n",
    "\n",
    "nn_classifier = Pipeline([\n",
    "    ('selection', feature_selection),\n",
    "    ('nn', model),\n",
    "])\n",
    "\n",
    "nn_classifier"
   ]
  },
  {
   "cell_type": "code",
   "execution_count": null,
   "id": "c983c914",
   "metadata": {},
   "outputs": [],
   "source": [
    "nn_params = {\n",
    "    'nn__build_model__units': [4, 8, 16, 32, 128, 256],\n",
    "    'nn__build_model__layers': [1, 2, 4, 8, 16],\n",
    "    'nn__build_model__optimizer': [tf.keras.optimizers.Adam(), tf.keras.optimizers.Nadam(), tf.keras.optimizers.SGD()],\n",
    "    'nn__build_model__activation': ['relu', 'sigmoid', 'tanh'],\n",
    "}\n",
    "\n",
    "nn_searching = RandomizedSearchCV(nn_classifier, nn_params, cv=StratifiedKFold(n_splits=5, shuffle=True, random_state=SEED), n_iter=12, n_jobs=1, refit=True)"
   ]
  },
  {
   "cell_type": "code",
   "execution_count": null,
   "id": "a1701529",
   "metadata": {},
   "outputs": [],
   "source": [
    "nn_searching.fit(data, labels)"
   ]
  },
  {
   "cell_type": "code",
   "execution_count": null,
   "id": "948be731",
   "metadata": {},
   "outputs": [],
   "source": [
    "print(nn_searching.best_params_)\n",
    "pd.DataFrame(nn_searching.cv_results_).sort_values(by='rank_test_score', ascending=True)"
   ]
  },
  {
   "cell_type": "code",
   "execution_count": null,
   "id": "5020fedf",
   "metadata": {},
   "outputs": [],
   "source": [
    "print(list(zip(range(len(le.classes_)), le.classes_)))\n",
    "\n",
    "model = nn_searching.best_estimator_ \n",
    "preds = model.predict(data)\n",
    "print(f'Accuracy: {accuracy_score(labels, preds)}')\n",
    "ConfusionMatrixDisplay(confusion_matrix(labels, preds)).plot()"
   ]
  }
 ],
 "metadata": {
  "kernelspec": {
   "display_name": "sportstracker-scrapper-model",
   "language": "python",
   "name": "python3"
  },
  "language_info": {
   "codemirror_mode": {
    "name": "ipython",
    "version": 3
   },
   "file_extension": ".py",
   "mimetype": "text/x-python",
   "name": "python",
   "nbconvert_exporter": "python",
   "pygments_lexer": "ipython3",
   "version": "3.12.11"
  }
 },
 "nbformat": 4,
 "nbformat_minor": 5
}
